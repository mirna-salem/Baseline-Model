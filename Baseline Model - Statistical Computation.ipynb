{
 "cells": [
  {
   "cell_type": "code",
   "execution_count": 1,
   "metadata": {},
   "outputs": [],
   "source": [
    "# Import necessary packages\n",
    "from sklearn.model_selection import train_test_split\n",
    "import pandas as pd\n",
    "import math"
   ]
  },
  {
   "cell_type": "markdown",
   "metadata": {},
   "source": [
    "# <center>Reading Yelp Dataset</center>"
   ]
  },
  {
   "cell_type": "code",
   "execution_count": 2,
   "metadata": {},
   "outputs": [],
   "source": [
    "ratings_df = pd.read_csv(\"Yelp\\\\ratings.csv\")"
   ]
  },
  {
   "cell_type": "markdown",
   "metadata": {},
   "source": [
    "# <center>Splitting the Dataset</center>"
   ]
  },
  {
   "cell_type": "code",
   "execution_count": 3,
   "metadata": {},
   "outputs": [],
   "source": [
    "# Next, we split the Yelp dataset into a train and test set\n",
    "# 80% will be used for training\n",
    "# 20% will be used for testing\n",
    "train_lst,test_lst = train_test_split(ratings_df, test_size=0.2,random_state=42)\n",
    "\n",
    "#Since the train_test_split() function returns lists,\n",
    "#I'm converting to dataframes to make it easier to work with\n",
    "train_df = pd.DataFrame(train_lst)\n",
    "test_df = pd.DataFrame(test_lst)"
   ]
  },
  {
   "cell_type": "code",
   "execution_count": 4,
   "metadata": {},
   "outputs": [
    {
     "data": {
      "text/html": [
       "<div>\n",
       "<style scoped>\n",
       "    .dataframe tbody tr th:only-of-type {\n",
       "        vertical-align: middle;\n",
       "    }\n",
       "\n",
       "    .dataframe tbody tr th {\n",
       "        vertical-align: top;\n",
       "    }\n",
       "\n",
       "    .dataframe thead th {\n",
       "        text-align: right;\n",
       "    }\n",
       "</style>\n",
       "<table border=\"1\" class=\"dataframe\">\n",
       "  <thead>\n",
       "    <tr style=\"text-align: right;\">\n",
       "      <th></th>\n",
       "      <th>User ID</th>\n",
       "      <th>Business ID</th>\n",
       "      <th>Rating</th>\n",
       "      <th>Date</th>\n",
       "    </tr>\n",
       "  </thead>\n",
       "  <tbody>\n",
       "    <tr>\n",
       "      <th>13033</th>\n",
       "      <td>4027</td>\n",
       "      <td>397</td>\n",
       "      <td>4</td>\n",
       "      <td>2/1/2014</td>\n",
       "    </tr>\n",
       "    <tr>\n",
       "      <th>12113</th>\n",
       "      <td>3374</td>\n",
       "      <td>608</td>\n",
       "      <td>3</td>\n",
       "      <td>10/15/2013</td>\n",
       "    </tr>\n",
       "    <tr>\n",
       "      <th>21100</th>\n",
       "      <td>5040</td>\n",
       "      <td>220</td>\n",
       "      <td>5</td>\n",
       "      <td>10/18/2015</td>\n",
       "    </tr>\n",
       "    <tr>\n",
       "      <th>20763</th>\n",
       "      <td>6884</td>\n",
       "      <td>799</td>\n",
       "      <td>5</td>\n",
       "      <td>9/26/2015</td>\n",
       "    </tr>\n",
       "    <tr>\n",
       "      <th>4438</th>\n",
       "      <td>948</td>\n",
       "      <td>686</td>\n",
       "      <td>2</td>\n",
       "      <td>10/17/2010</td>\n",
       "    </tr>\n",
       "  </tbody>\n",
       "</table>\n",
       "</div>"
      ],
      "text/plain": [
       "       User ID  Business ID  Rating        Date\n",
       "13033     4027          397       4    2/1/2014\n",
       "12113     3374          608       3  10/15/2013\n",
       "21100     5040          220       5  10/18/2015\n",
       "20763     6884          799       5   9/26/2015\n",
       "4438       948          686       2  10/17/2010"
      ]
     },
     "execution_count": 4,
     "metadata": {},
     "output_type": "execute_result"
    }
   ],
   "source": [
    "train_df.head()"
   ]
  },
  {
   "cell_type": "code",
   "execution_count": 5,
   "metadata": {},
   "outputs": [
    {
     "data": {
      "text/html": [
       "<div>\n",
       "<style scoped>\n",
       "    .dataframe tbody tr th:only-of-type {\n",
       "        vertical-align: middle;\n",
       "    }\n",
       "\n",
       "    .dataframe tbody tr th {\n",
       "        vertical-align: top;\n",
       "    }\n",
       "\n",
       "    .dataframe thead th {\n",
       "        text-align: right;\n",
       "    }\n",
       "</style>\n",
       "<table border=\"1\" class=\"dataframe\">\n",
       "  <thead>\n",
       "    <tr style=\"text-align: right;\">\n",
       "      <th></th>\n",
       "      <th>User ID</th>\n",
       "      <th>Business ID</th>\n",
       "      <th>Rating</th>\n",
       "      <th>Date</th>\n",
       "    </tr>\n",
       "  </thead>\n",
       "  <tbody>\n",
       "    <tr>\n",
       "      <th>21643</th>\n",
       "      <td>7280</td>\n",
       "      <td>450</td>\n",
       "      <td>5</td>\n",
       "      <td>11/16/2015</td>\n",
       "    </tr>\n",
       "    <tr>\n",
       "      <th>17597</th>\n",
       "      <td>3547</td>\n",
       "      <td>83</td>\n",
       "      <td>3</td>\n",
       "      <td>2/27/2015</td>\n",
       "    </tr>\n",
       "    <tr>\n",
       "      <th>29819</th>\n",
       "      <td>9022</td>\n",
       "      <td>1395</td>\n",
       "      <td>5</td>\n",
       "      <td>4/21/2017</td>\n",
       "    </tr>\n",
       "    <tr>\n",
       "      <th>29342</th>\n",
       "      <td>8229</td>\n",
       "      <td>333</td>\n",
       "      <td>1</td>\n",
       "      <td>3/23/2017</td>\n",
       "    </tr>\n",
       "    <tr>\n",
       "      <th>11453</th>\n",
       "      <td>3400</td>\n",
       "      <td>1089</td>\n",
       "      <td>5</td>\n",
       "      <td>7/30/2013</td>\n",
       "    </tr>\n",
       "  </tbody>\n",
       "</table>\n",
       "</div>"
      ],
      "text/plain": [
       "       User ID  Business ID  Rating        Date\n",
       "21643     7280          450       5  11/16/2015\n",
       "17597     3547           83       3   2/27/2015\n",
       "29819     9022         1395       5   4/21/2017\n",
       "29342     8229          333       1   3/23/2017\n",
       "11453     3400         1089       5   7/30/2013"
      ]
     },
     "execution_count": 5,
     "metadata": {},
     "output_type": "execute_result"
    }
   ],
   "source": [
    "test_df.head()"
   ]
  },
  {
   "cell_type": "markdown",
   "metadata": {},
   "source": [
    "# <center>Global Mean</center>"
   ]
  },
  {
   "cell_type": "code",
   "execution_count": 6,
   "metadata": {},
   "outputs": [
    {
     "name": "stdout",
     "output_type": "stream",
     "text": [
      "The global mean is 3.598\n"
     ]
    }
   ],
   "source": [
    "# Calculate global mean of train set.\n",
    "# It's computed by taking the arithmetic \n",
    "# average of all ratings in the training set.\n",
    "\n",
    "global_mean = train_df[\"Rating\"].mean()\n",
    "\n",
    "print('The global mean is',round(global_mean,3))"
   ]
  },
  {
   "cell_type": "markdown",
   "metadata": {},
   "source": [
    "# <center>Create Deviation Function</center>"
   ]
  },
  {
   "cell_type": "code",
   "execution_count": 7,
   "metadata": {},
   "outputs": [],
   "source": [
    "# This function calculates the deviation\n",
    "# User deviation can be obtained by subtracting\n",
    "# the global mean from his/her mean rating. \n",
    "# Item deviation can be obtained by subtracting\n",
    "# the global mean from the item's mean rating.\n",
    "\n",
    "def find_deviations(ID, rating, df, global_mean):\n",
    "    dev_df = pd.DataFrame(columns = [ID,'Mean Rating', 'Deviation'])\n",
    "    dev_df[ID] = df[ID]\n",
    "    dev_df['Mean Rating'] = df[ID].map(df.groupby(ID)[rating].mean())\n",
    "    dev_df['Deviation'] = dev_df['Mean Rating'].apply(lambda x: x - global_mean)\n",
    "    dev_df = dev_df.drop_duplicates()\n",
    "    \n",
    "    return dev_df"
   ]
  },
  {
   "cell_type": "markdown",
   "metadata": {},
   "source": [
    "# <center>Calculate User Deviation </center>"
   ]
  },
  {
   "cell_type": "code",
   "execution_count": 8,
   "metadata": {},
   "outputs": [
    {
     "data": {
      "text/html": [
       "<div>\n",
       "<style scoped>\n",
       "    .dataframe tbody tr th:only-of-type {\n",
       "        vertical-align: middle;\n",
       "    }\n",
       "\n",
       "    .dataframe tbody tr th {\n",
       "        vertical-align: top;\n",
       "    }\n",
       "\n",
       "    .dataframe thead th {\n",
       "        text-align: right;\n",
       "    }\n",
       "</style>\n",
       "<table border=\"1\" class=\"dataframe\">\n",
       "  <thead>\n",
       "    <tr style=\"text-align: right;\">\n",
       "      <th></th>\n",
       "      <th>User ID</th>\n",
       "      <th>Mean Rating</th>\n",
       "      <th>Deviation</th>\n",
       "    </tr>\n",
       "  </thead>\n",
       "  <tbody>\n",
       "    <tr>\n",
       "      <th>13033</th>\n",
       "      <td>4027</td>\n",
       "      <td>4.500</td>\n",
       "      <td>0.902416</td>\n",
       "    </tr>\n",
       "    <tr>\n",
       "      <th>12113</th>\n",
       "      <td>3374</td>\n",
       "      <td>3.000</td>\n",
       "      <td>-0.597584</td>\n",
       "    </tr>\n",
       "    <tr>\n",
       "      <th>21100</th>\n",
       "      <td>5040</td>\n",
       "      <td>3.875</td>\n",
       "      <td>0.277416</td>\n",
       "    </tr>\n",
       "    <tr>\n",
       "      <th>20763</th>\n",
       "      <td>6884</td>\n",
       "      <td>4.750</td>\n",
       "      <td>1.152416</td>\n",
       "    </tr>\n",
       "    <tr>\n",
       "      <th>4438</th>\n",
       "      <td>948</td>\n",
       "      <td>3.000</td>\n",
       "      <td>-0.597584</td>\n",
       "    </tr>\n",
       "  </tbody>\n",
       "</table>\n",
       "</div>"
      ],
      "text/plain": [
       "       User ID  Mean Rating  Deviation\n",
       "13033     4027        4.500   0.902416\n",
       "12113     3374        3.000  -0.597584\n",
       "21100     5040        3.875   0.277416\n",
       "20763     6884        4.750   1.152416\n",
       "4438       948        3.000  -0.597584"
      ]
     },
     "execution_count": 8,
     "metadata": {},
     "output_type": "execute_result"
    }
   ],
   "source": [
    "# Calculate bu(user deviation) for each user \n",
    "user_dev = find_deviations(\"User ID\", \"Rating\", train_df, global_mean)\n",
    "\n",
    "user_dev.head()"
   ]
  },
  {
   "cell_type": "markdown",
   "metadata": {},
   "source": [
    "# <center>Calculate Item Deviation</center>"
   ]
  },
  {
   "cell_type": "code",
   "execution_count": 9,
   "metadata": {},
   "outputs": [
    {
     "data": {
      "text/html": [
       "<div>\n",
       "<style scoped>\n",
       "    .dataframe tbody tr th:only-of-type {\n",
       "        vertical-align: middle;\n",
       "    }\n",
       "\n",
       "    .dataframe tbody tr th {\n",
       "        vertical-align: top;\n",
       "    }\n",
       "\n",
       "    .dataframe thead th {\n",
       "        text-align: right;\n",
       "    }\n",
       "</style>\n",
       "<table border=\"1\" class=\"dataframe\">\n",
       "  <thead>\n",
       "    <tr style=\"text-align: right;\">\n",
       "      <th></th>\n",
       "      <th>Business ID</th>\n",
       "      <th>Mean Rating</th>\n",
       "      <th>Deviation</th>\n",
       "    </tr>\n",
       "  </thead>\n",
       "  <tbody>\n",
       "    <tr>\n",
       "      <th>13033</th>\n",
       "      <td>397</td>\n",
       "      <td>3.277778</td>\n",
       "      <td>-0.319807</td>\n",
       "    </tr>\n",
       "    <tr>\n",
       "      <th>12113</th>\n",
       "      <td>608</td>\n",
       "      <td>2.666667</td>\n",
       "      <td>-0.930918</td>\n",
       "    </tr>\n",
       "    <tr>\n",
       "      <th>21100</th>\n",
       "      <td>220</td>\n",
       "      <td>4.250000</td>\n",
       "      <td>0.652416</td>\n",
       "    </tr>\n",
       "    <tr>\n",
       "      <th>20763</th>\n",
       "      <td>799</td>\n",
       "      <td>3.571429</td>\n",
       "      <td>-0.026156</td>\n",
       "    </tr>\n",
       "    <tr>\n",
       "      <th>4438</th>\n",
       "      <td>686</td>\n",
       "      <td>4.333333</td>\n",
       "      <td>0.735749</td>\n",
       "    </tr>\n",
       "  </tbody>\n",
       "</table>\n",
       "</div>"
      ],
      "text/plain": [
       "       Business ID  Mean Rating  Deviation\n",
       "13033          397     3.277778  -0.319807\n",
       "12113          608     2.666667  -0.930918\n",
       "21100          220     4.250000   0.652416\n",
       "20763          799     3.571429  -0.026156\n",
       "4438           686     4.333333   0.735749"
      ]
     },
     "execution_count": 9,
     "metadata": {},
     "output_type": "execute_result"
    }
   ],
   "source": [
    "# Calculate bi(item deviation) for each item\n",
    "item_dev = find_deviations(\"Business ID\", \"Rating\", train_df, global_mean)\n",
    "\n",
    "item_dev.head()"
   ]
  },
  {
   "cell_type": "markdown",
   "metadata": {},
   "source": [
    "# <center>Predict Ratings Using Baseline Model</center>\n",
    "<center>$\\hat{r}_{ui} = \\mu + b_{u} +  b_{i}$ </center><br>\n",
    "<center>$\\hat{r}_{ui}$ = predicted rating for user u on item i</center> <br>\n",
    "<center>$\\mu$ = global_mean </center><br>\n",
    "<center>$b_{u}$ = user u's average rating deviation from global_mean </center><br>\n",
    "<center>$b_{i}$ = item i's average rating deviation from global_mean </center><br>"
   ]
  },
  {
   "cell_type": "code",
   "execution_count": 10,
   "metadata": {},
   "outputs": [],
   "source": [
    "test_df = test_df.set_index(pd.Series(range(test_df.shape[0])))\n",
    "Predicted_Ratings = []\n",
    "for i in range(0, len(test_df)):\n",
    "    q1 = 0 \n",
    "    q2 = 0\n",
    "    total = global_mean\n",
    "    if test_df.loc[i,'User ID'] in user_dev['User ID'].values:\n",
    "        q1 = user_dev[user_dev['User ID'] == test_df.loc[i,'User ID']].Deviation.values[0]\n",
    "    if test_df.loc[i,'Business ID'] in item_dev['Business ID'].values:\n",
    "        q2 = item_dev[item_dev['Business ID'] == test_df.loc[i,'Business ID']].Deviation.values[0]            \n",
    "    total += q1 + q2\n",
    "    Predicted_Ratings.append(total)\n",
    "\n",
    "test_df['Predicted Ratings'] = Predicted_Ratings"
   ]
  },
  {
   "cell_type": "code",
   "execution_count": 11,
   "metadata": {},
   "outputs": [
    {
     "data": {
      "text/html": [
       "<div>\n",
       "<style scoped>\n",
       "    .dataframe tbody tr th:only-of-type {\n",
       "        vertical-align: middle;\n",
       "    }\n",
       "\n",
       "    .dataframe tbody tr th {\n",
       "        vertical-align: top;\n",
       "    }\n",
       "\n",
       "    .dataframe thead th {\n",
       "        text-align: right;\n",
       "    }\n",
       "</style>\n",
       "<table border=\"1\" class=\"dataframe\">\n",
       "  <thead>\n",
       "    <tr style=\"text-align: right;\">\n",
       "      <th></th>\n",
       "      <th>User ID</th>\n",
       "      <th>Business ID</th>\n",
       "      <th>Rating</th>\n",
       "      <th>Date</th>\n",
       "      <th>Predicted Ratings</th>\n",
       "    </tr>\n",
       "  </thead>\n",
       "  <tbody>\n",
       "    <tr>\n",
       "      <th>0</th>\n",
       "      <td>7280</td>\n",
       "      <td>450</td>\n",
       "      <td>5</td>\n",
       "      <td>11/16/2015</td>\n",
       "      <td>5.331708</td>\n",
       "    </tr>\n",
       "    <tr>\n",
       "      <th>1</th>\n",
       "      <td>3547</td>\n",
       "      <td>83</td>\n",
       "      <td>3</td>\n",
       "      <td>2/27/2015</td>\n",
       "      <td>3.350941</td>\n",
       "    </tr>\n",
       "    <tr>\n",
       "      <th>2</th>\n",
       "      <td>9022</td>\n",
       "      <td>1395</td>\n",
       "      <td>5</td>\n",
       "      <td>4/21/2017</td>\n",
       "      <td>3.688130</td>\n",
       "    </tr>\n",
       "    <tr>\n",
       "      <th>3</th>\n",
       "      <td>8229</td>\n",
       "      <td>333</td>\n",
       "      <td>1</td>\n",
       "      <td>3/23/2017</td>\n",
       "      <td>4.777416</td>\n",
       "    </tr>\n",
       "    <tr>\n",
       "      <th>4</th>\n",
       "      <td>3400</td>\n",
       "      <td>1089</td>\n",
       "      <td>5</td>\n",
       "      <td>7/30/2013</td>\n",
       "      <td>4.765625</td>\n",
       "    </tr>\n",
       "  </tbody>\n",
       "</table>\n",
       "</div>"
      ],
      "text/plain": [
       "   User ID  Business ID  Rating        Date  Predicted Ratings\n",
       "0     7280          450       5  11/16/2015           5.331708\n",
       "1     3547           83       3   2/27/2015           3.350941\n",
       "2     9022         1395       5   4/21/2017           3.688130\n",
       "3     8229          333       1   3/23/2017           4.777416\n",
       "4     3400         1089       5   7/30/2013           4.765625"
      ]
     },
     "execution_count": 11,
     "metadata": {},
     "output_type": "execute_result"
    }
   ],
   "source": [
    "test_df.head()"
   ]
  },
  {
   "cell_type": "markdown",
   "metadata": {},
   "source": [
    "# <center>Calculate the Mean Absolute Error</center>"
   ]
  },
  {
   "cell_type": "code",
   "execution_count": 12,
   "metadata": {},
   "outputs": [
    {
     "name": "stdout",
     "output_type": "stream",
     "text": [
      "The MAE = 1.091803004865211\n"
     ]
    }
   ],
   "source": [
    "# Subtract the predicted rating from the\n",
    "difference = abs(test_df[\"Rating\"] - test_df[\"Predicted Ratings\"])\n",
    "result = difference.sum() / len(test_df)\n",
    "print('The MAE =',result)"
   ]
  }
 ],
 "metadata": {
  "kernelspec": {
   "display_name": "Python 3",
   "language": "python",
   "name": "python3"
  },
  "language_info": {
   "codemirror_mode": {
    "name": "ipython",
    "version": 3
   },
   "file_extension": ".py",
   "mimetype": "text/x-python",
   "name": "python",
   "nbconvert_exporter": "python",
   "pygments_lexer": "ipython3",
   "version": "3.8.3"
  }
 },
 "nbformat": 4,
 "nbformat_minor": 4
}
