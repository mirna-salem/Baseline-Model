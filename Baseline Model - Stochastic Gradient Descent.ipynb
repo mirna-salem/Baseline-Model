{
 "cells": [
  {
   "cell_type": "code",
   "execution_count": 1,
   "metadata": {},
   "outputs": [],
   "source": [
    "# Import all necessary packages\n",
    "from sklearn.model_selection import train_test_split\n",
    "import matplotlib.pyplot as plt\n",
    "import pandas as pd\n",
    "import numpy as np\n",
    "import math"
   ]
  },
  {
   "cell_type": "markdown",
   "metadata": {},
   "source": [
    "# <center>Reading Yelp Dataset</center>"
   ]
  },
  {
   "cell_type": "code",
   "execution_count": 2,
   "metadata": {},
   "outputs": [],
   "source": [
    "ratings_df = pd.read_csv(\"Yelp\\\\ratings.csv\").drop(columns=['Date'])"
   ]
  },
  {
   "cell_type": "markdown",
   "metadata": {},
   "source": [
    "# <center>Splitting the Dataset</center>"
   ]
  },
  {
   "cell_type": "code",
   "execution_count": 3,
   "metadata": {},
   "outputs": [],
   "source": [
    "# Next, we split the Yelp dataset into a train and test set\n",
    "# 80% will be used for training\n",
    "# 20% will be used for testing\n",
    "train_lst,test_lst = train_test_split(ratings_df, test_size=0.2,random_state=42)\n",
    "\n",
    "#Since the train_test_split() function returns lists,\n",
    "#I'm converting to dataframes to make it easier to work with\n",
    "train_df = pd.DataFrame(train_lst)\n",
    "test_df = pd.DataFrame(test_lst)"
   ]
  },
  {
   "cell_type": "code",
   "execution_count": 4,
   "metadata": {},
   "outputs": [
    {
     "data": {
      "text/html": [
       "<div>\n",
       "<style scoped>\n",
       "    .dataframe tbody tr th:only-of-type {\n",
       "        vertical-align: middle;\n",
       "    }\n",
       "\n",
       "    .dataframe tbody tr th {\n",
       "        vertical-align: top;\n",
       "    }\n",
       "\n",
       "    .dataframe thead th {\n",
       "        text-align: right;\n",
       "    }\n",
       "</style>\n",
       "<table border=\"1\" class=\"dataframe\">\n",
       "  <thead>\n",
       "    <tr style=\"text-align: right;\">\n",
       "      <th></th>\n",
       "      <th>User ID</th>\n",
       "      <th>Business ID</th>\n",
       "      <th>Rating</th>\n",
       "    </tr>\n",
       "  </thead>\n",
       "  <tbody>\n",
       "    <tr>\n",
       "      <th>13033</th>\n",
       "      <td>4027</td>\n",
       "      <td>397</td>\n",
       "      <td>4</td>\n",
       "    </tr>\n",
       "    <tr>\n",
       "      <th>12113</th>\n",
       "      <td>3374</td>\n",
       "      <td>608</td>\n",
       "      <td>3</td>\n",
       "    </tr>\n",
       "    <tr>\n",
       "      <th>21100</th>\n",
       "      <td>5040</td>\n",
       "      <td>220</td>\n",
       "      <td>5</td>\n",
       "    </tr>\n",
       "    <tr>\n",
       "      <th>20763</th>\n",
       "      <td>6884</td>\n",
       "      <td>799</td>\n",
       "      <td>5</td>\n",
       "    </tr>\n",
       "    <tr>\n",
       "      <th>4438</th>\n",
       "      <td>948</td>\n",
       "      <td>686</td>\n",
       "      <td>2</td>\n",
       "    </tr>\n",
       "  </tbody>\n",
       "</table>\n",
       "</div>"
      ],
      "text/plain": [
       "       User ID  Business ID  Rating\n",
       "13033     4027          397       4\n",
       "12113     3374          608       3\n",
       "21100     5040          220       5\n",
       "20763     6884          799       5\n",
       "4438       948          686       2"
      ]
     },
     "execution_count": 4,
     "metadata": {},
     "output_type": "execute_result"
    }
   ],
   "source": [
    "train_df.head()"
   ]
  },
  {
   "cell_type": "code",
   "execution_count": 5,
   "metadata": {},
   "outputs": [
    {
     "data": {
      "text/html": [
       "<div>\n",
       "<style scoped>\n",
       "    .dataframe tbody tr th:only-of-type {\n",
       "        vertical-align: middle;\n",
       "    }\n",
       "\n",
       "    .dataframe tbody tr th {\n",
       "        vertical-align: top;\n",
       "    }\n",
       "\n",
       "    .dataframe thead th {\n",
       "        text-align: right;\n",
       "    }\n",
       "</style>\n",
       "<table border=\"1\" class=\"dataframe\">\n",
       "  <thead>\n",
       "    <tr style=\"text-align: right;\">\n",
       "      <th></th>\n",
       "      <th>User ID</th>\n",
       "      <th>Business ID</th>\n",
       "      <th>Rating</th>\n",
       "    </tr>\n",
       "  </thead>\n",
       "  <tbody>\n",
       "    <tr>\n",
       "      <th>21643</th>\n",
       "      <td>7280</td>\n",
       "      <td>450</td>\n",
       "      <td>5</td>\n",
       "    </tr>\n",
       "    <tr>\n",
       "      <th>17597</th>\n",
       "      <td>3547</td>\n",
       "      <td>83</td>\n",
       "      <td>3</td>\n",
       "    </tr>\n",
       "    <tr>\n",
       "      <th>29819</th>\n",
       "      <td>9022</td>\n",
       "      <td>1395</td>\n",
       "      <td>5</td>\n",
       "    </tr>\n",
       "    <tr>\n",
       "      <th>29342</th>\n",
       "      <td>8229</td>\n",
       "      <td>333</td>\n",
       "      <td>1</td>\n",
       "    </tr>\n",
       "    <tr>\n",
       "      <th>11453</th>\n",
       "      <td>3400</td>\n",
       "      <td>1089</td>\n",
       "      <td>5</td>\n",
       "    </tr>\n",
       "  </tbody>\n",
       "</table>\n",
       "</div>"
      ],
      "text/plain": [
       "       User ID  Business ID  Rating\n",
       "21643     7280          450       5\n",
       "17597     3547           83       3\n",
       "29819     9022         1395       5\n",
       "29342     8229          333       1\n",
       "11453     3400         1089       5"
      ]
     },
     "execution_count": 5,
     "metadata": {},
     "output_type": "execute_result"
    }
   ],
   "source": [
    "test_df.head()"
   ]
  },
  {
   "cell_type": "markdown",
   "metadata": {},
   "source": [
    "# <center>Finding Global Mean of Training Data</center>"
   ]
  },
  {
   "cell_type": "code",
   "execution_count": 6,
   "metadata": {},
   "outputs": [
    {
     "name": "stdout",
     "output_type": "stream",
     "text": [
      "The global mean is 3.598\n"
     ]
    }
   ],
   "source": [
    "# Calculate global mean of train set.\n",
    "# It's computed by taking the arithmetic \n",
    "# average of all ratings in the training set.\n",
    "\n",
    "global_mean = train_df[\"Rating\"].mean()\n",
    "\n",
    "print('The global mean is',round(global_mean,3))"
   ]
  },
  {
   "cell_type": "code",
   "execution_count": 7,
   "metadata": {},
   "outputs": [
    {
     "data": {
      "text/html": [
       "<div>\n",
       "<style scoped>\n",
       "    .dataframe tbody tr th:only-of-type {\n",
       "        vertical-align: middle;\n",
       "    }\n",
       "\n",
       "    .dataframe tbody tr th {\n",
       "        vertical-align: top;\n",
       "    }\n",
       "\n",
       "    .dataframe thead th {\n",
       "        text-align: right;\n",
       "    }\n",
       "</style>\n",
       "<table border=\"1\" class=\"dataframe\">\n",
       "  <thead>\n",
       "    <tr style=\"text-align: right;\">\n",
       "      <th></th>\n",
       "      <th>Deviation</th>\n",
       "    </tr>\n",
       "    <tr>\n",
       "      <th>User ID</th>\n",
       "      <th></th>\n",
       "    </tr>\n",
       "  </thead>\n",
       "  <tbody>\n",
       "    <tr>\n",
       "      <th>4027</th>\n",
       "      <td>2.210410</td>\n",
       "    </tr>\n",
       "    <tr>\n",
       "      <th>3374</th>\n",
       "      <td>1.963141</td>\n",
       "    </tr>\n",
       "    <tr>\n",
       "      <th>5040</th>\n",
       "      <td>2.441628</td>\n",
       "    </tr>\n",
       "    <tr>\n",
       "      <th>6884</th>\n",
       "      <td>2.685436</td>\n",
       "    </tr>\n",
       "    <tr>\n",
       "      <th>948</th>\n",
       "      <td>-0.334770</td>\n",
       "    </tr>\n",
       "  </tbody>\n",
       "</table>\n",
       "</div>"
      ],
      "text/plain": [
       "         Deviation\n",
       "User ID           \n",
       "4027      2.210410\n",
       "3374      1.963141\n",
       "5040      2.441628\n",
       "6884      2.685436\n",
       "948      -0.334770"
      ]
     },
     "metadata": {},
     "output_type": "display_data"
    },
    {
     "data": {
      "text/html": [
       "<div>\n",
       "<style scoped>\n",
       "    .dataframe tbody tr th:only-of-type {\n",
       "        vertical-align: middle;\n",
       "    }\n",
       "\n",
       "    .dataframe tbody tr th {\n",
       "        vertical-align: top;\n",
       "    }\n",
       "\n",
       "    .dataframe thead th {\n",
       "        text-align: right;\n",
       "    }\n",
       "</style>\n",
       "<table border=\"1\" class=\"dataframe\">\n",
       "  <thead>\n",
       "    <tr style=\"text-align: right;\">\n",
       "      <th></th>\n",
       "      <th>Deviation</th>\n",
       "    </tr>\n",
       "    <tr>\n",
       "      <th>Business ID</th>\n",
       "      <th></th>\n",
       "    </tr>\n",
       "  </thead>\n",
       "  <tbody>\n",
       "    <tr>\n",
       "      <th>397</th>\n",
       "      <td>0.057732</td>\n",
       "    </tr>\n",
       "    <tr>\n",
       "      <th>608</th>\n",
       "      <td>1.622065</td>\n",
       "    </tr>\n",
       "    <tr>\n",
       "      <th>220</th>\n",
       "      <td>0.707048</td>\n",
       "    </tr>\n",
       "    <tr>\n",
       "      <th>799</th>\n",
       "      <td>0.405321</td>\n",
       "    </tr>\n",
       "    <tr>\n",
       "      <th>686</th>\n",
       "      <td>1.882912</td>\n",
       "    </tr>\n",
       "  </tbody>\n",
       "</table>\n",
       "</div>"
      ],
      "text/plain": [
       "             Deviation\n",
       "Business ID           \n",
       "397           0.057732\n",
       "608           1.622065\n",
       "220           0.707048\n",
       "799           0.405321\n",
       "686           1.882912"
      ]
     },
     "metadata": {},
     "output_type": "display_data"
    }
   ],
   "source": [
    "# Create 2 seperate dataframes: 1 for user deviation and 1 for item deviation\n",
    "# Pick random values for user deviation and item deviation.\n",
    "user_dev = train_df.copy()\n",
    "user_dev = user_dev.drop(columns=['Business ID','Rating'])\n",
    "user_dev = user_dev.drop_duplicates()\n",
    "user_dev = user_dev.set_index('User ID')\n",
    "user_dev['Deviation'] = np.random.uniform(-1,3,size= len(user_dev))\n",
    "display(user_dev.head())\n",
    "\n",
    "item_dev = train_df.copy()\n",
    "item_dev = item_dev.drop(columns=['User ID','Rating'])\n",
    "item_dev = item_dev.drop_duplicates()\n",
    "item_dev = item_dev.set_index('Business ID')\n",
    "item_dev['Deviation'] = np.random.uniform(-1,3,size=len(item_dev))\n",
    "display(item_dev.head())"
   ]
  },
  {
   "cell_type": "markdown",
   "metadata": {},
   "source": [
    "# <center>Creating Residual Function</center>\n",
    "<center>Residual = observed rating - predicted rating</center>\n",
    "\n",
    "<center>Predicted Rating is obtained using the following formula: </center><br>\n",
    "\n",
    "<center>$\\hat{r}_{ui} = \\mu + b_{u} +  b_{i}$ </center><br>\n",
    "<center>$\\hat{r}_{ui}$ = predicted rating for user u on item i </center><br>\n",
    "<center>$\\mu$ = global_mean </center><br>\n",
    "<center>$b_{u}$ = user u's average rating deviation from global_mean </center><br>\n",
    "<center>$b_{i}$ = item i's average rating deviation from global_mean </center><br>"
   ]
  },
  {
   "cell_type": "code",
   "execution_count": 8,
   "metadata": {},
   "outputs": [],
   "source": [
    "def calculate_residual(train_df, item_dev, user_dev, global_mean):\n",
    "    train_df = train_df.set_index(pd.Series(range(train_df.shape[0])))\n",
    "    train_df[\"Predicted\"]= float('nan')\n",
    "    \n",
    "    for i in range(0,len(train_df)):\n",
    "        bu = 0 \n",
    "        bi = 0     \n",
    "        \n",
    "        if train_df.loc[i,'User ID'] in user_dev.index:\n",
    "            bu = user_dev.loc[train_df.loc[i,'User ID'],'Deviation']\n",
    "        else:\n",
    "            continue\n",
    "            \n",
    "        if train_df.loc[i,'Business ID'] in item_dev.index:\n",
    "            bi = item_dev.loc[train_df.loc[i,'Business ID'], 'Deviation'] \n",
    "        else:\n",
    "            continue\n",
    "            \n",
    "        train_df.loc[i,'Predicted'] = global_mean + bu + bi\n",
    "        \n",
    "    train_df[\"Residual\"]=train_df[\"Rating\"]-train_df[\"Predicted\"]  \n",
    "    \n",
    "    return train_df"
   ]
  },
  {
   "cell_type": "markdown",
   "metadata": {},
   "source": [
    "# <center>Creating Loss Function</center>\n",
    "<center>$f(b_{u},b_{i}) = \\sum_{(u,i)\\in K}(\\hat{r}_{ui} - \\mu - b_{u} -  b_{i})^{2} + \\lambda(\\sum_{u} b_{u}^{2} + \\sum_{i} b_{i}^{2})$ </center><br>\n",
    "\n",
    "<center>Where $\\hat{r}_{ui}$ is the observed rating in the training set K. </center>"
   ]
  },
  {
   "cell_type": "code",
   "execution_count": 9,
   "metadata": {},
   "outputs": [],
   "source": [
    "def loss_function(trainData,userDev,itemDev,lamb):\n",
    "    result = trainData['Residual'].pow(2).sum() + lamb * (userDev['Deviation'].pow(2).sum() + itemDev['Deviation'].pow(2).sum())  \n",
    "    \n",
    "    return round(result,2)"
   ]
  },
  {
   "cell_type": "code",
   "execution_count": 10,
   "metadata": {},
   "outputs": [],
   "source": [
    "def bu_deviation(user_dev, train_df, learning_rate, lamb):\n",
    "    for i in range(0,len(train_df)):\n",
    "        b_u = user_dev.loc[train_df.loc[i,'User ID'],'Deviation']\n",
    "        e_ui=train_df.loc[i,'Residual']\n",
    "        user_dev.at[train_df.loc[i,'User ID'], 'Deviation'] = b_u-(learning_rate*(-2*e_ui+2*lamb*b_u))\n",
    "    \n",
    "    return user_dev"
   ]
  },
  {
   "cell_type": "code",
   "execution_count": 11,
   "metadata": {},
   "outputs": [],
   "source": [
    "def bi_deviation(item_dev, train_df, learning_rate, lamb):\n",
    "    for i in range(0,len(train_df)):\n",
    "        b_i = item_dev.loc[train_df.loc[i,'Business ID'],'Deviation']\n",
    "        e_ui=train_df.loc[i,'Residual']\n",
    "        item_dev.at[train_df.loc[i,'Business ID'], 'Deviation'] = b_i-(learning_rate*(-2*e_ui+2*lamb*b_i))\n",
    "    \n",
    "    return item_dev"
   ]
  },
  {
   "attachments": {
    "high_learning_rate.PNG": {
     "image/png": "[encoded data removed]"
    }
   },
   "cell_type": "markdown",
   "metadata": {},
   "source": [
    "# <center>__Setting the Learning Rate__\n",
    "When updating the deviation for each user and item, it's important to choose a learning rate that's just right. We don't want it to be too large or too small because it will negativly impact the performance of our model. If you try changing the learning rate to 0.1, you can actually see how it increases the result of the loss function which is NOT what we want. I found that using 0.001 learning rate worked great. </center>\n",
    "\n",
    "# <center>Here's What a Large Learning Rate Looks Like...</center>\n",
    "![high_learning_rate.PNG](attachment:high_learning_rate.PNG)\n",
    "\n",
    "<center>You can test this out by changing the learning_rate variable below.</center>"
   ]
  },
  {
   "cell_type": "code",
   "execution_count": 12,
   "metadata": {},
   "outputs": [],
   "source": [
    "learning_rate = 0.001"
   ]
  },
  {
   "cell_type": "markdown",
   "metadata": {},
   "source": [
    "# <center>Setting the Lambda</center>\n",
    "\n",
    "<center>Lambda has to be just right to avoid overfitting and underfitting the data. </center>\n"
   ]
  },
  {
   "cell_type": "code",
   "execution_count": 13,
   "metadata": {},
   "outputs": [],
   "source": [
    "lamb = 0.5"
   ]
  },
  {
   "cell_type": "markdown",
   "metadata": {},
   "source": [
    "# <center>Time for Epochs!</center>\n",
    "\n",
    "<center>1 Epoch = 1 complete pass through training data.</center>"
   ]
  },
  {
   "cell_type": "code",
   "execution_count": 14,
   "metadata": {},
   "outputs": [],
   "source": [
    "epochs = 100\n",
    "\n",
    "# Loss is a list that stores the result of loss function at the end of each epoch\n",
    "loss = []\n",
    "\n",
    "train_df = calculate_residual(train_df,item_dev,user_dev,global_mean)\n",
    "loss.append(loss_function(train_df, user_dev,item_dev,lamb))\n",
    "\n",
    "for i in range(0, epochs):\n",
    "    user_dev = bu_deviation(user_dev,train_df,learning_rate,lamb)\n",
    "    item_dev = bi_deviation(item_dev,train_df,learning_rate,lamb)\n",
    "    train_df = calculate_residual(train_df,item_dev,user_dev,global_mean)\n",
    "    loss.append(loss_function(train_df,user_dev,item_dev,lamb))"
   ]
  },
  {
   "cell_type": "markdown",
   "metadata": {},
   "source": [
    "# <center>Graphing Results of Epochs</center>"
   ]
  },
  {
   "cell_type": "code",
   "execution_count": 15,
   "metadata": {},
   "outputs": [
    {
     "data": {
      "image/png": "[encoded data removed]",
      "text/plain": [
       "<Figure size 432x288 with 1 Axes>"
      ]
     },
     "metadata": {
      "needs_background": "light"
     },
     "output_type": "display_data"
    }
   ],
   "source": [
    "x_axis = loss\n",
    "y_axis = [x for x in range(len(x_axis))]\n",
    "\n",
    "plt.plot(y_axis,x_axis, \"bo\")\n",
    "plt.ylabel(\"Loss Function of Yelp Data\")\n",
    "plt.xlabel(\"Number of Epochs\")\n",
    "plt.show()"
   ]
  },
  {
   "cell_type": "markdown",
   "metadata": {},
   "source": [
    "# <center>Calculating the Mean Absolute Error</center>"
   ]
  },
  {
   "cell_type": "code",
   "execution_count": 16,
   "metadata": {},
   "outputs": [
    {
     "name": "stdout",
     "output_type": "stream",
     "text": [
      "0.801\n"
     ]
    }
   ],
   "source": [
    "# Calculate Residual between test and the train deviations\n",
    "test_df = calculate_residual(test_df,item_dev,user_dev, global_mean)\n",
    "\n",
    "sum = test_df[\"Residual\"].apply(lambda x: abs(x)).sum()\n",
    "\n",
    "print(round(sum/len(test_df),3))"
   ]
  }
 ],
 "metadata": {
  "kernelspec": {
   "display_name": "Python 3",
   "language": "python",
   "name": "python3"
  },
  "language_info": {
   "codemirror_mode": {
    "name": "ipython",
    "version": 3
   },
   "file_extension": ".py",
   "mimetype": "text/x-python",
   "name": "python",
   "nbconvert_exporter": "python",
   "pygments_lexer": "ipython3",
   "version": "3.8.3"
  }
 },
 "nbformat": 4,
 "nbformat_minor": 4
}
